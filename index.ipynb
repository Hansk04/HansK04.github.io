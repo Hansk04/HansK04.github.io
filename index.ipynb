{
  "cells": [
    {
      "cell_type": "raw",
      "metadata": {},
      "source": [
        "---\n",
        "title: \"Hans Kuthy\"\n",
        "pagetitle: \"Hans Kuthy | Data Scientist\"\n",
        "subtitle: \"Northwestern University | Mauritius Government Scholar\"\n",
        "image: \n",
        "  path: assets/homepic.jpg\n",
        "  alt: \"Hans Kuthy - Data Science Portfolio\"\n",
        "  width: \"800px\"\n",
        "\n",
        "twitter-card:\n",
        "  title: \"Hans Kuthy - Data Scientist\"\n",
        "  description: \"Northwestern Data Science Scholar specializing in LLMs, ML, and Sports Analytics\"\n",
        "  image: assets/homepic.jpg\n",
        "\n",
        "about:\n",
        "  template: solana\n",
        "  image-width: 28em\n",
        "  id: hero-heading\n",
        "  links:\n",
        "    - icon: linkedin\n",
        "      href: https://linkedin.com/in/Hanskuthy\n",
        "    - icon: github\n",
        "      href: https://github.com/HansK04/\n",
        "    - icon: twitter\n",
        "      href: https://twitter.com/yourhandle\n",
        "    - icon: file-pdf\n",
        "      href: assets/HansKuthy-CV.pdf\n",
        "    - icon: envelope\n",
        "      href: mailto:Hanskuthy33@gmail.com\n",
        "\n",
        "page-layout: full\n",
        "format:\n",
        "  html:\n",
        "    css: styles.css\n",
        "\n",
        "header-includes: |\n",
        "  <link rel=\"stylesheet\" href=\"https://cdnjs.cloudflare.com/ajax/libs/font-awesome/6.4.0/css/all.min.css\">\n",
        "---"
      ],
      "id": "5b5c6cd5"
    },
    {
      "cell_type": "markdown",
      "metadata": {},
      "source": [
        "::: {#hero-heading}\n",
        "\n",
        "```{css}\n",
        "/* Temporary in-document CSS */\n",
        ".hero-image {\n",
        "  display: block;\n",
        "  max-width: 100%;\n",
        "  height: auto;\n",
        "  margin: 2rem auto;\n",
        "  border-radius: 8px;\n",
        "}\n",
        "\n",
        "---"
      ],
      "id": "e5dfe4a9"
    }
  ],
  "metadata": {
    "kernelspec": {
      "name": "python3",
      "language": "python",
      "display_name": "Python 3 (ipykernel)"
    }
  },
  "nbformat": 4,
  "nbformat_minor": 5
}